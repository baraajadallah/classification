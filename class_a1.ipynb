{
 "cells": [
  {
   "cell_type": "code",
   "execution_count": 1,
   "id": "893929df",
   "metadata": {},
   "outputs": [
    {
     "name": "stderr",
     "output_type": "stream",
     "text": [
      "2023-06-11 17:55:30.793746: I tensorflow/core/platform/cpu_feature_guard.cc:182] This TensorFlow binary is optimized to use available CPU instructions in performance-critical operations.\n",
      "To enable the following instructions: AVX2 FMA, in other operations, rebuild TensorFlow with the appropriate compiler flags.\n"
     ]
    }
   ],
   "source": [
    "import tensorflow as tf\n",
    "from tensorflow.keras.applications.densenet import DenseNet121\n",
    "from tensorflow.keras.layers import Activation, Dropout,Dense, Flatten, BatchNormalization, Conv2D, MaxPooling2D, Lambda, Input, AveragePooling2D\n",
    "from tensorflow.keras.layers import Dropout\n",
    "from tensorflow.keras.layers import Flatten\n",
    "from tensorflow.keras.layers import Dense\n",
    "from tensorflow.keras.layers import Input\n",
    "from tensorflow.keras.models import Model, Sequential\n",
    "from keras.preprocessing.image import ImageDataGenerator\n",
    "from keras.callbacks import ReduceLROnPlateau, LearningRateScheduler\n",
    "from tensorflow.keras.optimizers import Adam\n",
    "from tensorflow.keras.utils import to_categorical\n",
    "from sklearn.preprocessing import LabelBinarizer\n",
    "from sklearn.model_selection import train_test_split\n",
    "from sklearn.metrics import classification_report\n",
    "import matplotlib.pyplot as plt\n",
    "import pandas as pd\n",
    "import numpy as np\n",
    "import cv2\n",
    "from tensorflow.keras.applications import imagenet_utils\n",
    "from sklearn.metrics import confusion_matrix\n",
    "import itertools\n",
    "import os\n",
    "import shutil\n",
    "import random\n",
    "from tensorflow.keras.preprocessing import image_dataset_from_directory\n",
    "import numpy as np\n",
    "import os\n",
    "import numpy as np\n",
    "from tensorflow import keras\n",
    "from tensorflow.keras.layers import Dense, Activation\n",
    "from tensorflow.keras.optimizers import Adam\n",
    "from tensorflow.keras.metrics import categorical_crossentropy\n",
    "from tensorflow.keras.preprocessing.image import ImageDataGenerator\n",
    "from tensorflow.keras.preprocessing import image\n",
    "from tensorflow.keras.models import Model\n",
    "import keras\n",
    "from keras import models, regularizers, layers, optimizers, losses, metrics\n",
    "from keras.models import Sequential\n",
    "from keras.layers import Dense\n",
    "from keras.utils.np_utils import to_categorical\n",
    "from keras.preprocessing.image import ImageDataGenerator\n",
    "from keras.preprocessing import image\n",
    "from tensorflow.keras.applications import ResNet50"
   ]
  },
  {
   "cell_type": "code",
   "execution_count": 2,
   "id": "38000b54",
   "metadata": {},
   "outputs": [
    {
     "name": "stdout",
     "output_type": "stream",
     "text": [
      "Requirement already satisfied: tensorflow in /Users/baraajadallah/anaconda3/lib/python3.10/site-packages (2.12.0)\n",
      "Requirement already satisfied: gast<=0.4.0,>=0.2.1 in /Users/baraajadallah/anaconda3/lib/python3.10/site-packages (from tensorflow) (0.4.0)\n",
      "Requirement already satisfied: jax>=0.3.15 in /Users/baraajadallah/anaconda3/lib/python3.10/site-packages (from tensorflow) (0.4.12)\n",
      "Requirement already satisfied: keras<2.13,>=2.12.0 in /Users/baraajadallah/anaconda3/lib/python3.10/site-packages (from tensorflow) (2.12.0)\n",
      "Requirement already satisfied: google-pasta>=0.1.1 in /Users/baraajadallah/anaconda3/lib/python3.10/site-packages (from tensorflow) (0.2.0)\n",
      "Requirement already satisfied: setuptools in /Users/baraajadallah/anaconda3/lib/python3.10/site-packages (from tensorflow) (65.6.3)\n",
      "Requirement already satisfied: flatbuffers>=2.0 in /Users/baraajadallah/anaconda3/lib/python3.10/site-packages (from tensorflow) (23.5.26)\n",
      "Requirement already satisfied: typing-extensions>=3.6.6 in /Users/baraajadallah/anaconda3/lib/python3.10/site-packages (from tensorflow) (4.4.0)\n",
      "Requirement already satisfied: wrapt<1.15,>=1.11.0 in /Users/baraajadallah/anaconda3/lib/python3.10/site-packages (from tensorflow) (1.14.1)\n",
      "Requirement already satisfied: tensorflow-io-gcs-filesystem>=0.23.1 in /Users/baraajadallah/anaconda3/lib/python3.10/site-packages (from tensorflow) (0.32.0)\n",
      "Requirement already satisfied: termcolor>=1.1.0 in /Users/baraajadallah/anaconda3/lib/python3.10/site-packages (from tensorflow) (2.3.0)\n",
      "Requirement already satisfied: libclang>=13.0.0 in /Users/baraajadallah/anaconda3/lib/python3.10/site-packages (from tensorflow) (16.0.0)\n",
      "Requirement already satisfied: h5py>=2.9.0 in /Users/baraajadallah/anaconda3/lib/python3.10/site-packages (from tensorflow) (3.7.0)\n",
      "Requirement already satisfied: opt-einsum>=2.3.2 in /Users/baraajadallah/anaconda3/lib/python3.10/site-packages (from tensorflow) (3.3.0)\n",
      "Requirement already satisfied: numpy<1.24,>=1.22 in /Users/baraajadallah/anaconda3/lib/python3.10/site-packages (from tensorflow) (1.23.5)\n",
      "Requirement already satisfied: six>=1.12.0 in /Users/baraajadallah/anaconda3/lib/python3.10/site-packages (from tensorflow) (1.16.0)\n",
      "Requirement already satisfied: tensorflow-estimator<2.13,>=2.12.0 in /Users/baraajadallah/anaconda3/lib/python3.10/site-packages (from tensorflow) (2.12.0)\n",
      "Requirement already satisfied: packaging in /Users/baraajadallah/anaconda3/lib/python3.10/site-packages (from tensorflow) (22.0)\n",
      "Requirement already satisfied: grpcio<2.0,>=1.24.3 in /Users/baraajadallah/anaconda3/lib/python3.10/site-packages (from tensorflow) (1.54.2)\n",
      "Requirement already satisfied: tensorboard<2.13,>=2.12 in /Users/baraajadallah/anaconda3/lib/python3.10/site-packages (from tensorflow) (2.12.3)\n",
      "Requirement already satisfied: protobuf!=4.21.0,!=4.21.1,!=4.21.2,!=4.21.3,!=4.21.4,!=4.21.5,<5.0.0dev,>=3.20.3 in /Users/baraajadallah/anaconda3/lib/python3.10/site-packages (from tensorflow) (4.23.2)\n",
      "Requirement already satisfied: absl-py>=1.0.0 in /Users/baraajadallah/anaconda3/lib/python3.10/site-packages (from tensorflow) (1.4.0)\n",
      "Requirement already satisfied: astunparse>=1.6.0 in /Users/baraajadallah/anaconda3/lib/python3.10/site-packages (from tensorflow) (1.6.3)\n",
      "Requirement already satisfied: wheel<1.0,>=0.23.0 in /Users/baraajadallah/anaconda3/lib/python3.10/site-packages (from astunparse>=1.6.0->tensorflow) (0.38.4)\n",
      "Requirement already satisfied: scipy>=1.7 in /Users/baraajadallah/anaconda3/lib/python3.10/site-packages (from jax>=0.3.15->tensorflow) (1.10.0)\n",
      "Requirement already satisfied: ml-dtypes>=0.1.0 in /Users/baraajadallah/anaconda3/lib/python3.10/site-packages (from jax>=0.3.15->tensorflow) (0.2.0)\n",
      "Requirement already satisfied: werkzeug>=1.0.1 in /Users/baraajadallah/anaconda3/lib/python3.10/site-packages (from tensorboard<2.13,>=2.12->tensorflow) (2.2.2)\n",
      "Requirement already satisfied: google-auth<3,>=1.6.3 in /Users/baraajadallah/anaconda3/lib/python3.10/site-packages (from tensorboard<2.13,>=2.12->tensorflow) (2.19.1)\n",
      "Requirement already satisfied: tensorboard-data-server<0.8.0,>=0.7.0 in /Users/baraajadallah/anaconda3/lib/python3.10/site-packages (from tensorboard<2.13,>=2.12->tensorflow) (0.7.0)\n",
      "Requirement already satisfied: markdown>=2.6.8 in /Users/baraajadallah/anaconda3/lib/python3.10/site-packages (from tensorboard<2.13,>=2.12->tensorflow) (3.4.1)\n",
      "Requirement already satisfied: google-auth-oauthlib<1.1,>=0.5 in /Users/baraajadallah/anaconda3/lib/python3.10/site-packages (from tensorboard<2.13,>=2.12->tensorflow) (1.0.0)\n",
      "Requirement already satisfied: requests<3,>=2.21.0 in /Users/baraajadallah/anaconda3/lib/python3.10/site-packages (from tensorboard<2.13,>=2.12->tensorflow) (2.28.1)\n",
      "Requirement already satisfied: cachetools<6.0,>=2.0.0 in /Users/baraajadallah/anaconda3/lib/python3.10/site-packages (from google-auth<3,>=1.6.3->tensorboard<2.13,>=2.12->tensorflow) (5.3.1)\n",
      "Requirement already satisfied: rsa<5,>=3.1.4 in /Users/baraajadallah/anaconda3/lib/python3.10/site-packages (from google-auth<3,>=1.6.3->tensorboard<2.13,>=2.12->tensorflow) (4.9)\n",
      "Requirement already satisfied: urllib3<2.0 in /Users/baraajadallah/anaconda3/lib/python3.10/site-packages (from google-auth<3,>=1.6.3->tensorboard<2.13,>=2.12->tensorflow) (1.26.14)\n",
      "Requirement already satisfied: pyasn1-modules>=0.2.1 in /Users/baraajadallah/anaconda3/lib/python3.10/site-packages (from google-auth<3,>=1.6.3->tensorboard<2.13,>=2.12->tensorflow) (0.2.8)\n",
      "Requirement already satisfied: requests-oauthlib>=0.7.0 in /Users/baraajadallah/anaconda3/lib/python3.10/site-packages (from google-auth-oauthlib<1.1,>=0.5->tensorboard<2.13,>=2.12->tensorflow) (1.3.1)\n",
      "Requirement already satisfied: charset-normalizer<3,>=2 in /Users/baraajadallah/anaconda3/lib/python3.10/site-packages (from requests<3,>=2.21.0->tensorboard<2.13,>=2.12->tensorflow) (2.0.4)\n",
      "Requirement already satisfied: idna<4,>=2.5 in /Users/baraajadallah/anaconda3/lib/python3.10/site-packages (from requests<3,>=2.21.0->tensorboard<2.13,>=2.12->tensorflow) (3.4)\n",
      "Requirement already satisfied: certifi>=2017.4.17 in /Users/baraajadallah/anaconda3/lib/python3.10/site-packages (from requests<3,>=2.21.0->tensorboard<2.13,>=2.12->tensorflow) (2022.12.7)\n",
      "Requirement already satisfied: MarkupSafe>=2.1.1 in /Users/baraajadallah/anaconda3/lib/python3.10/site-packages (from werkzeug>=1.0.1->tensorboard<2.13,>=2.12->tensorflow) (2.1.1)\n",
      "Requirement already satisfied: pyasn1<0.5.0,>=0.4.6 in /Users/baraajadallah/anaconda3/lib/python3.10/site-packages (from pyasn1-modules>=0.2.1->google-auth<3,>=1.6.3->tensorboard<2.13,>=2.12->tensorflow) (0.4.8)\n",
      "Requirement already satisfied: oauthlib>=3.0.0 in /Users/baraajadallah/anaconda3/lib/python3.10/site-packages (from requests-oauthlib>=0.7.0->google-auth-oauthlib<1.1,>=0.5->tensorboard<2.13,>=2.12->tensorflow) (3.2.2)\n",
      "^C\n",
      "\u001b[31mERROR: Operation cancelled by user\u001b[0m\u001b[31m\n",
      "\u001b[0mNote: you may need to restart the kernel to use updated packages.\n"
     ]
    }
   ],
   "source": [
    "pip install tensorflow\n"
   ]
  },
  {
   "cell_type": "code",
   "execution_count": 3,
   "id": "8a4bcb35",
   "metadata": {},
   "outputs": [],
   "source": [
    "train_path = \"/Users/baraajadallah/Repos/Pediatric Chest X-ray Pneumonia/train\"\n",
    "test_path = \"/Users/baraajadallah/Repos/Pediatric Chest X-ray Pneumonia/test\""
   ]
  },
  {
   "cell_type": "code",
   "execution_count": 4,
   "id": "79f9926a",
   "metadata": {},
   "outputs": [],
   "source": [
    "lrate = 1e-3\n",
    "epochs = 8\n",
    "batch_size = 32"
   ]
  },
  {
   "cell_type": "code",
   "execution_count": 5,
   "id": "1c09d355",
   "metadata": {},
   "outputs": [],
   "source": [
    "train_datagen = ImageDataGenerator(\n",
    "        rescale=1 / 255.0,\n",
    "        rotation_range=20,\n",
    "        zoom_range=0.05,\n",
    "        width_shift_range=0.05,\n",
    "        height_shift_range=0.05,\n",
    "        shear_range=0.05,\n",
    "        horizontal_flip=True,\n",
    "        fill_mode=\"nearest\",\n",
    "        validation_split=0.20)\n",
    "\n",
    "test_datagen = ImageDataGenerator(rescale=1 / 255.0)"
   ]
  },
  {
   "cell_type": "code",
   "execution_count": 6,
   "id": "5cbaa32c",
   "metadata": {},
   "outputs": [
    {
     "name": "stdout",
     "output_type": "stream",
     "text": [
      "Found 4187 images belonging to 2 classes.\n",
      "Found 1045 images belonging to 2 classes.\n",
      "Found 624 images belonging to 2 classes.\n"
     ]
    }
   ],
   "source": [
    "train_generator = train_datagen.flow_from_directory(\n",
    "    directory=train_path,\n",
    "    target_size=(180,180),\n",
    "    color_mode=\"rgb\",\n",
    "    batch_size=batch_size,\n",
    "    class_mode=\"categorical\",\n",
    "    subset='training',\n",
    "    shuffle=True,\n",
    "    seed=42\n",
    ")\n",
    "valid_generator = train_datagen.flow_from_directory(\n",
    "    directory=train_path,\n",
    "    target_size=(180,180),\n",
    "    color_mode=\"rgb\",\n",
    "    batch_size=batch_size,\n",
    "    class_mode=\"categorical\",\n",
    "    subset='validation',\n",
    "    shuffle=True,\n",
    "    seed=42\n",
    ")\n",
    "\n",
    "test_generator = test_datagen.flow_from_directory(\n",
    "    directory=test_path,\n",
    "    target_size=(180,180),\n",
    "    color_mode=\"rgb\",\n",
    "    batch_size=1,\n",
    "    class_mode=None,\n",
    "    shuffle=False,\n",
    "    seed=42\n",
    ")"
   ]
  },
  {
   "cell_type": "code",
   "execution_count": 7,
   "id": "50b7ff0e",
   "metadata": {},
   "outputs": [],
   "source": [
    "# Convoluted Base MODEL\n",
    "conv_base = ResNet50(weights='imagenet',\n",
    "include_top=False,\n",
    "input_shape=(180, 180, 3))\n",
    "# MODEL\n",
    "model = models.Sequential()\n",
    "model.add(conv_base)\n",
    "model.add(layers.Flatten())\n",
    "model.add(layers.Dropout(0.5))\n",
    "model.add(layers.Dense(64, activation='relu',kernel_regularizer=regularizers.l2(0.001)))\n",
    "model.add(layers.Dropout(0.5))\n",
    "model.add(layers.Dense(2, activation='sigmoid'))"
   ]
  },
  {
   "cell_type": "code",
   "execution_count": 8,
   "id": "d5c8042a",
   "metadata": {},
   "outputs": [
    {
     "name": "stdout",
     "output_type": "stream",
     "text": [
      "Model: \"sequential\"\n",
      "_________________________________________________________________\n",
      " Layer (type)                Output Shape              Param #   \n",
      "=================================================================\n",
      " resnet50 (Functional)       (None, 6, 6, 2048)        23587712  \n",
      "                                                                 \n",
      " flatten (Flatten)           (None, 73728)             0         \n",
      "                                                                 \n",
      " dropout (Dropout)           (None, 73728)             0         \n",
      "                                                                 \n",
      " dense (Dense)               (None, 64)                4718656   \n",
      "                                                                 \n",
      " dropout_1 (Dropout)         (None, 64)                0         \n",
      "                                                                 \n",
      " dense_1 (Dense)             (None, 2)                 130       \n",
      "                                                                 \n",
      "=================================================================\n",
      "Total params: 28,306,498\n",
      "Trainable params: 28,253,378\n",
      "Non-trainable params: 53,120\n",
      "_________________________________________________________________\n",
      "None\n"
     ]
    }
   ],
   "source": [
    "print(model.summary())"
   ]
  },
  {
   "cell_type": "code",
   "execution_count": 9,
   "id": "51951936",
   "metadata": {},
   "outputs": [
    {
     "name": "stdout",
     "output_type": "stream",
     "text": [
      "conv_base is now NOT trainable\n",
      "0 input_1 False\n",
      "1 conv1_pad False\n",
      "2 conv1_conv False\n",
      "3 conv1_bn False\n",
      "4 conv1_relu False\n",
      "5 pool1_pad False\n",
      "6 pool1_pool False\n",
      "7 conv2_block1_1_conv False\n",
      "8 conv2_block1_1_bn False\n",
      "9 conv2_block1_1_relu False\n",
      "10 conv2_block1_2_conv False\n",
      "11 conv2_block1_2_bn False\n",
      "12 conv2_block1_2_relu False\n",
      "13 conv2_block1_0_conv False\n",
      "14 conv2_block1_3_conv False\n",
      "15 conv2_block1_0_bn False\n",
      "16 conv2_block1_3_bn False\n",
      "17 conv2_block1_add False\n",
      "18 conv2_block1_out False\n",
      "19 conv2_block2_1_conv False\n",
      "20 conv2_block2_1_bn False\n",
      "21 conv2_block2_1_relu False\n",
      "22 conv2_block2_2_conv False\n",
      "23 conv2_block2_2_bn False\n",
      "24 conv2_block2_2_relu False\n",
      "25 conv2_block2_3_conv False\n",
      "26 conv2_block2_3_bn False\n",
      "27 conv2_block2_add False\n",
      "28 conv2_block2_out False\n",
      "29 conv2_block3_1_conv False\n",
      "30 conv2_block3_1_bn False\n",
      "31 conv2_block3_1_relu False\n",
      "32 conv2_block3_2_conv False\n",
      "33 conv2_block3_2_bn False\n",
      "34 conv2_block3_2_relu False\n",
      "35 conv2_block3_3_conv False\n",
      "36 conv2_block3_3_bn False\n",
      "37 conv2_block3_add False\n",
      "38 conv2_block3_out False\n",
      "39 conv3_block1_1_conv False\n",
      "40 conv3_block1_1_bn False\n",
      "41 conv3_block1_1_relu False\n",
      "42 conv3_block1_2_conv False\n",
      "43 conv3_block1_2_bn False\n",
      "44 conv3_block1_2_relu False\n",
      "45 conv3_block1_0_conv False\n",
      "46 conv3_block1_3_conv False\n",
      "47 conv3_block1_0_bn False\n",
      "48 conv3_block1_3_bn False\n",
      "49 conv3_block1_add False\n",
      "50 conv3_block1_out False\n",
      "51 conv3_block2_1_conv False\n",
      "52 conv3_block2_1_bn False\n",
      "53 conv3_block2_1_relu False\n",
      "54 conv3_block2_2_conv False\n",
      "55 conv3_block2_2_bn False\n",
      "56 conv3_block2_2_relu False\n",
      "57 conv3_block2_3_conv False\n",
      "58 conv3_block2_3_bn False\n",
      "59 conv3_block2_add False\n",
      "60 conv3_block2_out False\n",
      "61 conv3_block3_1_conv False\n",
      "62 conv3_block3_1_bn False\n",
      "63 conv3_block3_1_relu False\n",
      "64 conv3_block3_2_conv False\n",
      "65 conv3_block3_2_bn False\n",
      "66 conv3_block3_2_relu False\n",
      "67 conv3_block3_3_conv False\n",
      "68 conv3_block3_3_bn False\n",
      "69 conv3_block3_add False\n",
      "70 conv3_block3_out False\n",
      "71 conv3_block4_1_conv False\n",
      "72 conv3_block4_1_bn False\n",
      "73 conv3_block4_1_relu False\n",
      "74 conv3_block4_2_conv False\n",
      "75 conv3_block4_2_bn False\n",
      "76 conv3_block4_2_relu False\n",
      "77 conv3_block4_3_conv False\n",
      "78 conv3_block4_3_bn False\n",
      "79 conv3_block4_add False\n",
      "80 conv3_block4_out False\n",
      "81 conv4_block1_1_conv False\n",
      "82 conv4_block1_1_bn False\n",
      "83 conv4_block1_1_relu False\n",
      "84 conv4_block1_2_conv False\n",
      "85 conv4_block1_2_bn False\n",
      "86 conv4_block1_2_relu False\n",
      "87 conv4_block1_0_conv False\n",
      "88 conv4_block1_3_conv False\n",
      "89 conv4_block1_0_bn False\n",
      "90 conv4_block1_3_bn False\n",
      "91 conv4_block1_add False\n",
      "92 conv4_block1_out False\n",
      "93 conv4_block2_1_conv False\n",
      "94 conv4_block2_1_bn False\n",
      "95 conv4_block2_1_relu False\n",
      "96 conv4_block2_2_conv False\n",
      "97 conv4_block2_2_bn False\n",
      "98 conv4_block2_2_relu False\n",
      "99 conv4_block2_3_conv False\n",
      "100 conv4_block2_3_bn False\n",
      "101 conv4_block2_add False\n",
      "102 conv4_block2_out False\n",
      "103 conv4_block3_1_conv False\n",
      "104 conv4_block3_1_bn False\n",
      "105 conv4_block3_1_relu False\n",
      "106 conv4_block3_2_conv False\n",
      "107 conv4_block3_2_bn False\n",
      "108 conv4_block3_2_relu False\n",
      "109 conv4_block3_3_conv False\n",
      "110 conv4_block3_3_bn False\n",
      "111 conv4_block3_add False\n",
      "112 conv4_block3_out False\n",
      "113 conv4_block4_1_conv False\n",
      "114 conv4_block4_1_bn False\n",
      "115 conv4_block4_1_relu False\n",
      "116 conv4_block4_2_conv False\n",
      "117 conv4_block4_2_bn False\n",
      "118 conv4_block4_2_relu False\n",
      "119 conv4_block4_3_conv False\n",
      "120 conv4_block4_3_bn False\n",
      "121 conv4_block4_add False\n",
      "122 conv4_block4_out False\n",
      "123 conv4_block5_1_conv False\n",
      "124 conv4_block5_1_bn False\n",
      "125 conv4_block5_1_relu False\n",
      "126 conv4_block5_2_conv False\n",
      "127 conv4_block5_2_bn False\n",
      "128 conv4_block5_2_relu False\n",
      "129 conv4_block5_3_conv False\n",
      "130 conv4_block5_3_bn False\n",
      "131 conv4_block5_add False\n",
      "132 conv4_block5_out False\n",
      "133 conv4_block6_1_conv False\n",
      "134 conv4_block6_1_bn False\n",
      "135 conv4_block6_1_relu False\n",
      "136 conv4_block6_2_conv False\n",
      "137 conv4_block6_2_bn False\n",
      "138 conv4_block6_2_relu False\n",
      "139 conv4_block6_3_conv False\n",
      "140 conv4_block6_3_bn False\n",
      "141 conv4_block6_add False\n",
      "142 conv4_block6_out False\n",
      "143 conv5_block1_1_conv False\n",
      "144 conv5_block1_1_bn False\n",
      "145 conv5_block1_1_relu False\n",
      "146 conv5_block1_2_conv False\n",
      "147 conv5_block1_2_bn False\n",
      "148 conv5_block1_2_relu False\n",
      "149 conv5_block1_0_conv False\n",
      "150 conv5_block1_3_conv False\n",
      "151 conv5_block1_0_bn False\n",
      "152 conv5_block1_3_bn False\n",
      "153 conv5_block1_add False\n",
      "154 conv5_block1_out False\n",
      "155 conv5_block2_1_conv False\n",
      "156 conv5_block2_1_bn False\n",
      "157 conv5_block2_1_relu False\n",
      "158 conv5_block2_2_conv False\n",
      "159 conv5_block2_2_bn False\n",
      "160 conv5_block2_2_relu False\n",
      "161 conv5_block2_3_conv False\n",
      "162 conv5_block2_3_bn False\n",
      "163 conv5_block2_add False\n",
      "164 conv5_block2_out False\n",
      "165 conv5_block3_1_conv False\n",
      "166 conv5_block3_1_bn False\n",
      "167 conv5_block3_1_relu False\n",
      "168 conv5_block3_2_conv False\n",
      "169 conv5_block3_2_bn False\n",
      "170 conv5_block3_2_relu False\n",
      "171 conv5_block3_3_conv False\n",
      "172 conv5_block3_3_bn False\n",
      "173 conv5_block3_add False\n",
      "174 conv5_block3_out False\n"
     ]
    }
   ],
   "source": [
    "for layer in conv_base.layers[:]:\n",
    "    layer.trainable = False\n",
    "print('conv_base is now NOT trainable')\n",
    "for i, layer in enumerate(conv_base.layers):\n",
    "    print(i, layer.name, layer.trainable)"
   ]
  },
  {
   "cell_type": "code",
   "execution_count": 10,
   "id": "4e3e355e",
   "metadata": {},
   "outputs": [
    {
     "name": "stdout",
     "output_type": "stream",
     "text": [
      "model compiled\n",
      "Model: \"sequential\"\n",
      "_________________________________________________________________\n",
      " Layer (type)                Output Shape              Param #   \n",
      "=================================================================\n",
      " resnet50 (Functional)       (None, 6, 6, 2048)        23587712  \n",
      "                                                                 \n",
      " flatten (Flatten)           (None, 73728)             0         \n",
      "                                                                 \n",
      " dropout (Dropout)           (None, 73728)             0         \n",
      "                                                                 \n",
      " dense (Dense)               (None, 64)                4718656   \n",
      "                                                                 \n",
      " dropout_1 (Dropout)         (None, 64)                0         \n",
      "                                                                 \n",
      " dense_1 (Dense)             (None, 2)                 130       \n",
      "                                                                 \n",
      "=================================================================\n",
      "Total params: 28,306,498\n",
      "Trainable params: 4,718,786\n",
      "Non-trainable params: 23,587,712\n",
      "_________________________________________________________________\n",
      "None\n"
     ]
    }
   ],
   "source": [
    "model.compile(loss = 'binary_crossentropy',metrics = ['accuracy']\n",
    ",optimizer = tf.keras.optimizers.Adam(learning_rate = 0.00005))\n",
    "print(\"model compiled\")\n",
    "print(model.summary())"
   ]
  },
  {
   "cell_type": "code",
   "execution_count": null,
   "id": "95adbea5",
   "metadata": {},
   "outputs": [
    {
     "name": "stdout",
     "output_type": "stream",
     "text": [
      "Epoch 1/8\n"
     ]
    },
    {
     "name": "stderr",
     "output_type": "stream",
     "text": [
      "2023-06-11 17:55:45.667676: I tensorflow/core/common_runtime/executor.cc:1197] [/device:CPU:0] (DEBUG INFO) Executor start aborting (this does not indicate an error and you can ignore this message): INVALID_ARGUMENT: You must feed a value for placeholder tensor 'Placeholder/_0' with dtype int32\n",
      "\t [[{{node Placeholder/_0}}]]\n"
     ]
    },
    {
     "name": "stdout",
     "output_type": "stream",
     "text": [
      " 48/131 [=========>....................] - ETA: 5:40:26 - loss: 0.7791 - accuracy: 0.6908"
     ]
    }
   ],
   "source": [
    "history = model.fit(train_generator, validation_data=valid_generator, epochs=8)"
   ]
  },
  {
   "cell_type": "code",
   "execution_count": null,
   "id": "05623fb1",
   "metadata": {},
   "outputs": [],
   "source": [
    "for layer in conv_base.layers[:165]:\n",
    "    layer.trainable = False\n",
    "for layer in conv_base.layers[165:]:\n",
    "    layer.trainable = True\n",
    "print('Last block of the conv_base is now trainable')"
   ]
  },
  {
   "cell_type": "code",
   "execution_count": null,
   "id": "4492e387",
   "metadata": {},
   "outputs": [],
   "source": [
    "metrics=['accuracy',\n",
    "tf.keras.metrics.Precision(),\n",
    "tf.keras.metrics.Recall(),\n",
    "tf.keras.metrics.AUC(),\n",
    "tf.keras.metrics.SensitivityAtSpecificity(0.5),\n",
    "tf.keras.metrics.SpecificityAtSensitivity(0.5)]"
   ]
  },
  {
   "cell_type": "code",
   "execution_count": null,
   "id": "db1d453c",
   "metadata": {},
   "outputs": [],
   "source": [
    "# Compile frozen conv_base + UNfrozen top block + my top layer ... SLOW LR\n",
    "model.compile(optimizer=tf.keras.optimizers.Adam(learning_rate = 0.00005),\n",
    "loss='binary_crossentropy',\n",
    "metrics=metrics)\n",
    "print(\"model compiled\")\n",
    "print(model.summary())"
   ]
  },
  {
   "cell_type": "code",
   "execution_count": null,
   "id": "dcd9a361",
   "metadata": {},
   "outputs": [],
   "source": [
    "history = model.fit(train_generator, validation_data=valid_generator, epochs=6)"
   ]
  },
  {
   "cell_type": "code",
   "execution_count": null,
   "id": "284852bd",
   "metadata": {},
   "outputs": [],
   "source": [
    "model.compile(loss='binary_crossentropy', optimizer='adam', metrics = metrics )\n",
    "score, acc,pre,rec,auc,sen,spe= model.evaluate(valid_generator,batch_size=8)"
   ]
  },
  {
   "cell_type": "code",
   "execution_count": null,
   "id": "c2403886",
   "metadata": {},
   "outputs": [],
   "source": [
    "print('Training score:', score)\n",
    "print('accuracy:', acc)\n",
    "print('Precision:', pre)\n",
    "print('Recall:', rec)\n",
    "print('AUC:', auc)\n",
    "print('Sensitivity:', sen)\n",
    "print('Specificity:', spe)"
   ]
  },
  {
   "cell_type": "code",
   "execution_count": null,
   "id": "04b7b71f",
   "metadata": {},
   "outputs": [],
   "source": [
    "from keras.models import load_model"
   ]
  },
  {
   "cell_type": "code",
   "execution_count": null,
   "id": "273820fe",
   "metadata": {},
   "outputs": [],
   "source": [
    "print(\"[INFO] evaluating network...\")\n",
    "test_generator.reset()\n",
    "predIdxs = model.predict(x=test_generator, verbose=1)"
   ]
  },
  {
   "cell_type": "code",
   "execution_count": null,
   "id": "846fa4c2",
   "metadata": {},
   "outputs": [],
   "source": [
    "predIdxs = np.argmax(predIdxs, axis=1)\n",
    "# show a nicely formatted classification report\n",
    "print(classification_report(test_generator.classes, predIdxs,\n",
    "target_names=test_generator.class_indices.keys()))"
   ]
  },
  {
   "cell_type": "code",
   "execution_count": null,
   "id": "ac549f1f",
   "metadata": {},
   "outputs": [],
   "source": [
    "plt.figure(1, figsize = (15,8)) \n",
    "    \n",
    "plt.subplot(221)  \n",
    "plt.plot(history.history['accuracy'])  \n",
    "plt.plot(history.history['val_accuracy'])  \n",
    "plt.title('model accuracy')  \n",
    "plt.ylabel('accuracy')  \n",
    "plt.xlabel('epoch')  \n",
    "plt.legend(['train', 'valid']) \n",
    "    \n",
    "plt.subplot(222)  \n",
    "plt.plot(history.history['loss'])  \n",
    "plt.plot(history.history['val_loss'])  \n",
    "plt.title('model loss')  \n",
    "plt.ylabel('loss')  \n",
    "plt.xlabel('epoch')  \n",
    "plt.legend(['train', 'valid']) \n",
    "\n",
    "plt.show()"
   ]
  },
  {
   "cell_type": "code",
   "execution_count": null,
   "id": "1ccedd50",
   "metadata": {},
   "outputs": [],
   "source": [
    "test_generator.filenames"
   ]
  },
  {
   "cell_type": "code",
   "execution_count": null,
   "id": "292380f5",
   "metadata": {},
   "outputs": [],
   "source": [
    "predicted_class_indices = np.argmax(pred, axis = 1)"
   ]
  },
  {
   "cell_type": "code",
   "execution_count": null,
   "id": "6760d0ae",
   "metadata": {},
   "outputs": [],
   "source": [
    "TEST_DIR = 'kaggle/input/pediatric-pneumonia-chest-xray/Pediatric Chest X-ray Pneumonia/test/'\n",
    "f, ax = plt.subplots(5, 5, figsize = (15, 15))\n",
    "\n",
    "\n",
    "l = random.sample(range(0, len(test_generator.filenames)), 25)\n",
    "image = image.load_img(TEST_DIR + test_generator.filenames [l[0]])\n",
    "plt.imshow(image)\n",
    "\n",
    "#for i in range(0,25):\n",
    "    #img = cv2.imread(TEST_DIR + str(test_generator.filenames)[l[i]], cv2.IMREAD_UNCHANGED)\n",
    "    #img = img.astype(np.float32)\n",
    "    \n",
    "    \n",
    "    # a if condition else b\n",
    "    #predicted_class = \"Normal\" if predIdxs[l[i]] else \"Pneumonia\"\n",
    "\n",
    "    #ax[i//5, i%5].imshow(img)\n",
    "    #ax[i//5, i%5].axis('off')\n",
    "    #ax[i//5, i%5].set_title(\"Predicted:{}\".format(predicted_class))    \n",
    "\n",
    "#plt.show()"
   ]
  },
  {
   "cell_type": "code",
   "execution_count": null,
   "id": "fc7a573c",
   "metadata": {},
   "outputs": [],
   "source": []
  }
 ],
 "metadata": {
  "kernelspec": {
   "display_name": "Python 3 (ipykernel)",
   "language": "python",
   "name": "python3"
  },
  "language_info": {
   "codemirror_mode": {
    "name": "ipython",
    "version": 3
   },
   "file_extension": ".py",
   "mimetype": "text/x-python",
   "name": "python",
   "nbconvert_exporter": "python",
   "pygments_lexer": "ipython3",
   "version": "3.10.9"
  }
 },
 "nbformat": 4,
 "nbformat_minor": 5
}
