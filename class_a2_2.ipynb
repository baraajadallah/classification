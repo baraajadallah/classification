{
 "cells": [
  {
   "cell_type": "code",
   "execution_count": 1,
   "id": "36411b7f",
   "metadata": {},
   "outputs": [
    {
     "name": "stderr",
     "output_type": "stream",
     "text": [
      "2023-06-12 17:55:25.724772: I tensorflow/core/platform/cpu_feature_guard.cc:182] This TensorFlow binary is optimized to use available CPU instructions in performance-critical operations.\n",
      "To enable the following instructions: AVX2 FMA, in other operations, rebuild TensorFlow with the appropriate compiler flags.\n"
     ]
    }
   ],
   "source": [
    "import tensorflow as tf\n",
    "from tensorflow.keras.applications.densenet import DenseNet121\n",
    "from tensorflow.keras.layers import Activation, Dropout,Dense, Flatten, BatchNormalization, Conv2D, MaxPooling2D, Lambda, Input, AveragePooling2D\n",
    "from tensorflow.keras.layers import Dropout\n",
    "from tensorflow.keras.layers import Flatten\n",
    "from tensorflow.keras.layers import Dense\n",
    "from tensorflow.keras.layers import Input\n",
    "from tensorflow.keras.models import Model, Sequential\n",
    "from keras.preprocessing.image import ImageDataGenerator\n",
    "from keras.callbacks import ReduceLROnPlateau, LearningRateScheduler\n",
    "from tensorflow.keras.optimizers import Adam\n",
    "from tensorflow.keras.utils import to_categorical\n",
    "from sklearn.preprocessing import LabelBinarizer\n",
    "from sklearn.model_selection import train_test_split\n",
    "from sklearn.metrics import classification_report\n",
    "import matplotlib.pyplot as plt\n",
    "import pandas as pd\n",
    "import numpy as np\n",
    "import cv2\n",
    "from tensorflow.keras.applications import imagenet_utils\n",
    "from sklearn.metrics import confusion_matrix\n",
    "import itertools\n",
    "import os\n",
    "import shutil\n",
    "import random\n",
    "from tensorflow.keras.preprocessing import image_dataset_from_directory\n",
    "import numpy as np\n",
    "import os\n",
    "import numpy as np\n",
    "from tensorflow import keras\n",
    "from tensorflow.keras.layers import Dense, Activation\n",
    "from tensorflow.keras.optimizers import Adam\n",
    "from tensorflow.keras.metrics import categorical_crossentropy\n",
    "from tensorflow.keras.preprocessing.image import ImageDataGenerator\n",
    "from tensorflow.keras.preprocessing import image\n",
    "from tensorflow.keras.models import Model\n",
    "import keras\n",
    "from keras import models, regularizers, layers, optimizers, losses, metrics\n",
    "from keras.models import Sequential\n",
    "from keras.layers import Dense\n",
    "from keras.utils.np_utils import to_categorical\n",
    "from keras.preprocessing.image import ImageDataGenerator\n",
    "from keras.preprocessing import image\n",
    "from tensorflow.keras.applications import ResNet50"
   ]
  },
  {
   "cell_type": "code",
   "execution_count": 2,
   "id": "86969818",
   "metadata": {},
   "outputs": [],
   "source": [
    "def load_images_from_folder(folder):\n",
    "    images = []\n",
    "    for filename in os.listdir(folder):\n",
    "        img = cv2.imread(os.path.join(folder,filename))\n",
    "        if img is not None:\n",
    "            images.append(img)\n",
    "    return images"
   ]
  },
  {
   "cell_type": "code",
   "execution_count": 3,
   "id": "9cadb2b0",
   "metadata": {},
   "outputs": [],
   "source": [
    "images_1_path = '/Users/baraajadallah/Repos/Pediatric Chest X-ray Pneumonia/train/Normal'\n",
    "images_2_path = '/Users/baraajadallah/Repos/Pediatric Chest X-ray Pneumonia/train/PNEUMONIA'\n",
    "images_3_path = '/Users/baraajadallah/Repos/Pediatric Chest X-ray Pneumonia/test/NORMAL'\n",
    "images_4_path = '/Users/baraajadallah/Repos/Pediatric Chest X-ray Pneumonia/test/PNEUMONIA'"
   ]
  },
  {
   "cell_type": "code",
   "execution_count": 4,
   "id": "9a5953e2",
   "metadata": {},
   "outputs": [],
   "source": [
    "images_1 = load_images_from_folder(images_1_path)\n",
    "images_2 = load_images_from_folder(images_2_path)\n",
    "images_3 = load_images_from_folder(images_3_path)\n",
    "images_4 = load_images_from_folder(images_4_path)"
   ]
  },
  {
   "cell_type": "code",
   "execution_count": 5,
   "id": "789fb504",
   "metadata": {},
   "outputs": [],
   "source": [
    "df_1 = pd.DataFrame()\n",
    "df_2 = pd.DataFrame()\n",
    "df_3 = pd.DataFrame()\n",
    "df_4 = pd.DataFrame()"
   ]
  },
  {
   "cell_type": "code",
   "execution_count": 6,
   "id": "b5e19563",
   "metadata": {},
   "outputs": [],
   "source": [
    "df_1['images'] = images_1\n",
    "df_1['tumor'] = 0\n",
    "\n",
    "df_2['images'] = images_2\n",
    "df_2['tumor'] = 1\n",
    "\n",
    "df_3['images'] = images_3\n",
    "df_3['tumor'] = 0\n",
    "\n",
    "df_4['images'] = images_4\n",
    "df_4['tumor'] = 1"
   ]
  },
  {
   "cell_type": "code",
   "execution_count": 7,
   "id": "f139b35f",
   "metadata": {},
   "outputs": [],
   "source": [
    "df = pd.concat([df_1,df_2, df_3, df_4], ignore_index=True)\n",
    "\n",
    "df = df.sample(frac = 1)"
   ]
  },
  {
   "cell_type": "code",
   "execution_count": 8,
   "id": "7f9f623a",
   "metadata": {},
   "outputs": [
    {
     "data": {
      "text/html": [
       "<div>\n",
       "<style scoped>\n",
       "    .dataframe tbody tr th:only-of-type {\n",
       "        vertical-align: middle;\n",
       "    }\n",
       "\n",
       "    .dataframe tbody tr th {\n",
       "        vertical-align: top;\n",
       "    }\n",
       "\n",
       "    .dataframe thead th {\n",
       "        text-align: right;\n",
       "    }\n",
       "</style>\n",
       "<table border=\"1\" class=\"dataframe\">\n",
       "  <thead>\n",
       "    <tr style=\"text-align: right;\">\n",
       "      <th></th>\n",
       "      <th>images</th>\n",
       "      <th>tumor</th>\n",
       "    </tr>\n",
       "  </thead>\n",
       "  <tbody>\n",
       "    <tr>\n",
       "      <th>4954</th>\n",
       "      <td>[[[181, 181, 181], [180, 180, 180], [182, 182,...</td>\n",
       "      <td>1</td>\n",
       "    </tr>\n",
       "    <tr>\n",
       "      <th>1938</th>\n",
       "      <td>[[[44, 44, 44], [47, 47, 47], [49, 49, 49], [5...</td>\n",
       "      <td>1</td>\n",
       "    </tr>\n",
       "    <tr>\n",
       "      <th>4241</th>\n",
       "      <td>[[[0, 0, 0], [8, 8, 8], [5, 5, 5], [0, 0, 0], ...</td>\n",
       "      <td>1</td>\n",
       "    </tr>\n",
       "    <tr>\n",
       "      <th>4724</th>\n",
       "      <td>[[[0, 0, 0], [0, 0, 0], [0, 0, 0], [0, 0, 0], ...</td>\n",
       "      <td>1</td>\n",
       "    </tr>\n",
       "    <tr>\n",
       "      <th>5792</th>\n",
       "      <td>[[[0, 0, 0], [0, 0, 0], [0, 0, 0], [0, 0, 0], ...</td>\n",
       "      <td>1</td>\n",
       "    </tr>\n",
       "  </tbody>\n",
       "</table>\n",
       "</div>"
      ],
      "text/plain": [
       "                                                 images  tumor\n",
       "4954  [[[181, 181, 181], [180, 180, 180], [182, 182,...      1\n",
       "1938  [[[44, 44, 44], [47, 47, 47], [49, 49, 49], [5...      1\n",
       "4241  [[[0, 0, 0], [8, 8, 8], [5, 5, 5], [0, 0, 0], ...      1\n",
       "4724  [[[0, 0, 0], [0, 0, 0], [0, 0, 0], [0, 0, 0], ...      1\n",
       "5792  [[[0, 0, 0], [0, 0, 0], [0, 0, 0], [0, 0, 0], ...      1"
      ]
     },
     "execution_count": 8,
     "metadata": {},
     "output_type": "execute_result"
    }
   ],
   "source": [
    "df.head()"
   ]
  },
  {
   "cell_type": "code",
   "execution_count": null,
   "id": "cec22e45",
   "metadata": {},
   "outputs": [],
   "source": [
    "def extract_gabor_filters(image):\n",
    "\n",
    "    # Convert the image to grayscale\n",
    "    gray = cv2.cvtColor(image, cv2.COLOR_BGR2GRAY)\n",
    "\n",
    "    # Define the parameters for Gabor filters\n",
    "    ksize = 5  # Size of the Gabor filter kernel\n",
    "    sigma = 4.0  # Standard deviation of the Gaussian function\n",
    "    theta = np.pi / 4  # Orientation of the Gabor filter\n",
    "    lambd = 10.0  # Wavelength of the sinusoidal factor\n",
    "    gamma = 0.5  # Spatial aspect ratio\n",
    "\n",
    "    # Create the Gabor filter\n",
    "    gabor_kernel = cv2.getGaborKernel((ksize, ksize), sigma, theta, lambd, gamma)\n",
    "    \n",
    "    # Apply the Gabor filter to the grayscale image\n",
    "    filtered_image = cv2.filter2D(gray, cv2.CV_64F, gabor_kernel)\n",
    "\n",
    "    return filtered_image\n",
    "\n",
    "#df['images'] = df['images'].apply(lambda x: cv2.imread(x))\n",
    "\n",
    "# Apply Gabor filters to the images\n",
    "df['gabor_filtered'] = df['images'].apply(extract_gabor_filters)\n"
   ]
  },
  {
   "cell_type": "code",
   "execution_count": null,
   "id": "f2fefd74",
   "metadata": {},
   "outputs": [],
   "source": []
  }
 ],
 "metadata": {
  "kernelspec": {
   "display_name": "Python 3 (ipykernel)",
   "language": "python",
   "name": "python3"
  },
  "language_info": {
   "codemirror_mode": {
    "name": "ipython",
    "version": 3
   },
   "file_extension": ".py",
   "mimetype": "text/x-python",
   "name": "python",
   "nbconvert_exporter": "python",
   "pygments_lexer": "ipython3",
   "version": "3.10.9"
  }
 },
 "nbformat": 4,
 "nbformat_minor": 5
}
